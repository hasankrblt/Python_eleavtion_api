{
 "cells": [
  {
   "cell_type": "code",
   "execution_count": 32,
   "metadata": {},
   "outputs": [
    {
     "name": "stdout",
     "output_type": "stream",
     "text": [
      "[10.555, 15, 20, 25, 30, 35, 40, 45]\n",
      "{'results': [{'latitude': 10.555, 'elevation': 320, 'longitude': 15.0}]}\n",
      "320\n",
      "{'results': [{'latitude': 20.0, 'elevation': 648, 'longitude': 25.0}]}\n",
      "648\n",
      "{'results': [{'latitude': 30.0, 'elevation': 448, 'longitude': 35.0}]}\n",
      "448\n",
      "{'results': [{'latitude': 40.0, 'elevation': 1912, 'longitude': 45.0}]}\n",
      "1912\n"
     ]
    }
   ],
   "source": [
    "import requests\n",
    "import json\n",
    "import sys\n",
    "from  openpyxl import *\n",
    "kitap = load_workbook(\"deneme.xlsx\")\n",
    "def jprint(obj):\n",
    "    text = json.dumps(obj, sort_keys=True, indent=4)\n",
    "    print(text)\n",
    "sheet=kitap.active\n",
    "liste=list()\n",
    "a=0\n",
    "say=2\n",
    "\n",
    "for satir in range(2,sheet.max_row+1):\n",
    "    for sutun in range(6,8):\n",
    "        liste.append(sheet.cell(satir,sutun).value)\n",
    "\n",
    "print(liste)\n",
    "uzunluk=len(liste)\n",
    "\n",
    "while a<uzunluk:\n",
    "    response = requests.get(\"https://api.open-elevation.com/api/v1/lookup?locations=\"+str(liste[a])+\",\"+str(liste[a+1]))\n",
    "    res=json.loads(response.text)\n",
    "    print(res)\n",
    "    #response_dict=json.dumps(response.json())\n",
    "    print(res['results'][0]['elevation'])\n",
    "    deger=res['results'][0]['elevation']\n",
    "    sheet.cell(row=say,column=8,value=deger)\n",
    "    say+=1\n",
    "    a+=2\n",
    "    kitap.save(\"deneme.xlsx\")\n",
    "    \n",
    "kitap.close()\n"
   ]
  },
  {
   "cell_type": "code",
   "execution_count": null,
   "metadata": {},
   "outputs": [],
   "source": []
  },
  {
   "cell_type": "code",
   "execution_count": null,
   "metadata": {},
   "outputs": [],
   "source": []
  },
  {
   "cell_type": "code",
   "execution_count": null,
   "metadata": {},
   "outputs": [],
   "source": []
  }
 ],
 "metadata": {
  "kernelspec": {
   "display_name": "Python 3",
   "language": "python",
   "name": "python3"
  },
  "language_info": {
   "codemirror_mode": {
    "name": "ipython",
    "version": 3
   },
   "file_extension": ".py",
   "mimetype": "text/x-python",
   "name": "python",
   "nbconvert_exporter": "python",
   "pygments_lexer": "ipython3",
   "version": "3.8.3"
  }
 },
 "nbformat": 4,
 "nbformat_minor": 4
}
